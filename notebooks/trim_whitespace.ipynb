{
 "cells": [
  {
   "cell_type": "markdown",
   "metadata": {},
   "source": [
    "# Trimming Whitespace\n",
    "\n",
    "This is a short example profiling some of the various alternatives for trimming whitespace when uploading columns. This example was designed to study the impacts of addressing easyaccess [Issue #52](https://github.com/mgckind/easyaccess/issues/52).\n",
    "\n",
    "I ran this from home on a \"bad internet\" day, so the absolute values of the reported times are hopefully not representative. However, it is the relative times that we are interested in."
   ]
  },
  {
   "cell_type": "code",
   "execution_count": null,
   "metadata": {
    "collapsed": true
   },
   "outputs": [],
   "source": [
    "import numpy as np\n",
    "import pandas as pd\n",
    "import fitsio\n",
    "import time\n",
    "\n",
    "import easyaccess as ea"
   ]
  },
  {
   "cell_type": "code",
   "execution_count": null,
   "metadata": {
    "collapsed": false
   },
   "outputs": [],
   "source": [
    "tablename='TMP'\n",
    "col = 'TAG'\n",
    "\n",
    "print \"Loading FITS data...\"\n",
    "d = fitsio.read('infile.fits',columns=[col])\n",
    "ds = copy.deepcopy(d) # Copy for stripping\n",
    "\n",
    "print \"Converting to pandas...\"\n",
    "p = pd.DataFrame(d)\n",
    "ps = copy.deepcopy(p) # Copy for stripping\n",
    "\n",
    "print \"Found %s rows.\"%len(d)\n",
    "print \"dtype: \",d.dtype.descr\n",
    "print \"unique values: \",np.unique(d[col])\n",
    "print\n",
    "\n",
    "print \"Creating easyaccess connection...\"\n",
    "con = ea.connect()\n"
   ]
  },
  {
   "cell_type": "code",
   "execution_count": null,
   "metadata": {
    "collapsed": false
   },
   "outputs": [],
   "source": [
    "print \"Creating table...\"\n",
    "try: con.drop_table(tablename)\n",
    "except: pass\n",
    "\n",
    "query = \"CREATE TABLE %s ( %s VARCHAR2(13) );\"%(tablename,col)\n",
    "print query\n",
    "con.onecmd(query)"
   ]
  },
  {
   "cell_type": "code",
   "execution_count": null,
   "metadata": {
    "collapsed": false
   },
   "outputs": [],
   "source": [
    "start = time.time()\n",
    "print \"Inserting numpy (no strip) into table...\"\n",
    "query = \"INSERT INTO %s ( %s ) values (:%s )\"%(tablename,col,col)\n",
    "print query\n",
    "con.cursor().executemany(query, d.tolist())\n",
    "print \"Runtime: %.2fs\"%(time.time() - start)\n",
    " \n",
    "start = time.time()\n",
    "print \"Inserting numpy (strip) into table...\"\n",
    "query = \"INSERT INTO %s ( %s ) values (:%s )\"%(tablename,col,col)\n",
    "print query\n",
    "d[col] = np.char.strip(d[col])\n",
    "con.cursor().executemany(query, d.tolist())\n",
    "print \"Runtime: %.2fs\"%(time.time() - start)\n",
    " \n",
    "start = time.time()\n",
    "print \"Inserting pandas (no strip) into table...\"\n",
    "query = \"INSERT INTO %s ( %s ) values (:%s )\"%(tablename,col,col)\n",
    "print query\n",
    "con.cursor().executemany(query, p.values.tolist())\n",
    "print \"Runtime: %.2fs\"%(time.time() - start)\n",
    " \n",
    "start = time.time()\n",
    "print \"Inserting pandas (strip) into table...\"\n",
    "query = \"INSERT INTO %s ( %s ) values (:%s )\"%(tablename,col,col)\n",
    "print query\n",
    "p[col] = p[col].str.strip()\n",
    "con.cursor().executemany(query, p.values.tolist())\n",
    "print \"Runtime: %.2fs\"%(time.time() - start)\n",
    "\n",
    "start = time.time()\n",
    "print \"Inserting numpy (oracle) into table...\"\n",
    "query = \"INSERT INTO %s ( %s ) values ( TRIM(:%s) )\"%(tablename,col,col)\n",
    "print query\n",
    "con.cursor().executemany(query, d.tolist())\n",
    "print \"Runtime: %.2fs\"%(time.time() - start)"
   ]
  },
  {
   "cell_type": "code",
   "execution_count": null,
   "metadata": {
    "collapsed": false
   },
   "outputs": [],
   "source": [
    "try: con.drop_table(tablename)\n",
    "except: pass\n",
    "\n",
    "query = \"CREATE TABLE %s ( %s VARCHAR2(13) );\"%(tablename,col)\n",
    "print query\n",
    "con.onecmd(query)\n",
    "\n",
    "start = time.time()\n",
    "print \"Inserting numpy (oracle) into table...\"\n",
    "query = \"INSERT INTO %s ( %s ) values ( TRIM(:%s) )\"%(tablename,col,col)\n",
    "print query\n",
    "con.cursor().executemany(query, d.tolist())\n",
    "print \"Runtime: %.2fs\"%(time.time() - start)\n",
    "\n",
    "print \"Counting table rows...\"\n",
    "query = \"select count(*) from %s;\"%(tablename)\n",
    "print query\n",
    "con.onecmd(query)\n",
    "\n",
    "print \"Selecting original entry...\"\n",
    "query = \"select count(*) from %s where %s = '%s';\"%(tablename,col,d[col][0])\n",
    "print query\n",
    "con.onecmd(query)\n",
    "\n",
    "print \"Selecting stripped entry...\"\n",
    "query = \"select count(*) from %s where %s = '%s';\"%(tablename,col,d[col][0].strip())\n",
    "print query\n",
    "con.onecmd(query)"
   ]
  }
 ],
 "metadata": {
  "kernelspec": {
   "display_name": "Python 2",
   "language": "python",
   "name": "python2"
  },
  "language_info": {
   "codemirror_mode": {
    "name": "ipython",
    "version": 2
   },
   "file_extension": ".py",
   "mimetype": "text/x-python",
   "name": "python",
   "nbconvert_exporter": "python",
   "pygments_lexer": "ipython2",
   "version": "2.7.8"
  }
 },
 "nbformat": 4,
 "nbformat_minor": 0
}
