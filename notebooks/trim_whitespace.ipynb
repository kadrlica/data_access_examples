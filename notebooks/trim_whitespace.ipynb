{
 "cells": [
  {
   "cell_type": "markdown",
   "metadata": {},
   "source": [
    "# Trimming Whitespace\n",
    "\n",
    "This is a short example profiling some of the various alternatives for trimming whitespace when uploading columns. This example was designed to study the impacts of addressing easyaccess [Issue #52](https://github.com/mgckind/easyaccess/issues/52).\n",
    "\n",
    "The final result is that the simplest and best performant solution is to add a Oracle `TRIM` operation before the inserted string values. This does not need special treatment for pandas/numpy, and does not have the overhead of doing the whitespace trimming locally (though I'm not sure how Oracle is doing it so fast on the other end...). In the end, the change looks somthing like this:\n",
    "```sql\n",
    "INSERT INTO MYTABLE ( TEXT ) values ( TRIM(TRAILING FROM :TEXT) )\n",
    "```\n",
    "\n",
    "Because I was running this notebook on my laptop using a wireless connectiong, the timing information is not especially useful (you'll need to trust that "
   ]
  },
  {
   "cell_type": "code",
   "execution_count": 1,
   "metadata": {
    "collapsed": true
   },
   "outputs": [],
   "source": [
    "import numpy as np\n",
    "import pandas as pd\n",
    "import fitsio\n",
    "import time\n",
    "import copy\n",
    "import easyaccess as ea\n"
   ]
  },
  {
   "cell_type": "code",
   "execution_count": 2,
   "metadata": {
    "collapsed": false
   },
   "outputs": [
    {
     "name": "stdout",
     "output_type": "stream",
     "text": [
      "Loading FITS data...\n",
      "Converting to pandas...\n",
      "Found 7136105 rows.\n",
      "\n",
      "Data column and dtype:  [('TAG', '|S13')]\n",
      "Data value (note trailing space):  ['Y2N_FIRSTCUT ']\n"
     ]
    }
   ],
   "source": [
    "tablename='TMP'\n",
    "col = 'TAG'\n",
    "\n",
    "print \"Loading FITS data...\"\n",
    "d = fitsio.read('infile.fits',columns=[col])\n",
    "ds = copy.deepcopy(d)\n",
    "\n",
    "print \"Converting to pandas...\"\n",
    "p = pd.DataFrame(d)\n",
    "ps = copy.deepcopy(p)\n",
    "\n",
    "print \"Found %s rows.\\n\"%len(d)\n",
    "print \"Data column and dtype: \",d.dtype.descr\n",
    "print \"Data value (note trailing space): \",np.unique(d[col])"
   ]
  },
  {
   "cell_type": "code",
   "execution_count": 3,
   "metadata": {
    "collapsed": false
   },
   "outputs": [
    {
     "name": "stdout",
     "output_type": "stream",
     "text": [
      "Creating easyaccess connection...\n",
      "Connecting to DB ** dessci ** ...\n",
      "Creating table...\n",
      "CREATE TABLE TMP ( TAG VARCHAR2(13) );\n",
      "\u001b[32mDone!\u001b[0m\n",
      "\n"
     ]
    }
   ],
   "source": [
    "print \"Creating easyaccess connection...\"\n",
    "con = ea.connect()\n",
    "try: con.drop_table(tablename)\n",
    "except: pass\n",
    "\n",
    "print \"Creating table...\"\n",
    "query = \"CREATE TABLE %s ( %s VARCHAR2(13) );\"%(tablename,col)\n",
    "print query\n",
    "con.onecmd(query)"
   ]
  },
  {
   "cell_type": "code",
   "execution_count": 4,
   "metadata": {
    "collapsed": false
   },
   "outputs": [
    {
     "name": "stdout",
     "output_type": "stream",
     "text": [
      "Inserting numpy (NO STRIP) into table...\n",
      "INSERT INTO TMP ( TAG ) values (:TAG )\n",
      "Runtime: 12.10s\n",
      "Inserting numpy (STRIP) into table...\n",
      "INSERT INTO TMP ( TAG ) values (:TAG )\n",
      "Runtime: 9.64s\n"
     ]
    }
   ],
   "source": [
    "# numpy strip and insert\n",
    "\n",
    "start = time.time()\n",
    "print \"Inserting numpy (NO STRIP) into table...\"\n",
    "query = \"INSERT INTO %s ( %s ) values (:%s )\"%(tablename,col,col)\n",
    "print query\n",
    "con.cursor().executemany(query, d.tolist())\n",
    "print \"Runtime: %.2fs\"%(time.time() - start)\n",
    "\n",
    "start = time.time()\n",
    "print \"Inserting numpy (STRIP) into table...\"\n",
    "query = \"INSERT INTO %s ( %s ) values (:%s )\"%(tablename,col,col)\n",
    "print query\n",
    "ds[col] = np.char.strip(ds[col])\n",
    "con.cursor().executemany(query, d.tolist())\n",
    "print \"Runtime: %.2fs\"%(time.time() - start)"
   ]
  },
  {
   "cell_type": "code",
   "execution_count": 5,
   "metadata": {
    "collapsed": false
   },
   "outputs": [
    {
     "name": "stdout",
     "output_type": "stream",
     "text": [
      "Inserting pandas (NO STRIP) into table...\n",
      "INSERT INTO TMP ( TAG ) values (:TAG )\n",
      "Runtime: 15.43s\n",
      "Inserting pandas (STRIP) into table...\n",
      "INSERT INTO TMP ( TAG ) values (:TAG )\n",
      "Runtime: 19.10s\n"
     ]
    }
   ],
   "source": [
    "# pandas strip and insert\n",
    "\n",
    "start = time.time()\n",
    "print \"Inserting pandas (NO STRIP) into table...\"\n",
    "query = \"INSERT INTO %s ( %s ) values (:%s )\"%(tablename,col,col)\n",
    "print query\n",
    "con.cursor().executemany(query, p.values.tolist())\n",
    "print \"Runtime: %.2fs\"%(time.time() - start)\n",
    "\n",
    "start = time.time()\n",
    "print \"Inserting pandas (STRIP) into table...\"\n",
    "query = \"INSERT INTO %s ( %s ) values (:%s )\"%(tablename,col,col)\n",
    "print query\n",
    "ps[col] = ps[col].str.strip()\n",
    "con.cursor().executemany(query, ps.values.tolist())\n",
    "print \"Runtime: %.2fs\"%(time.time() - start)"
   ]
  },
  {
   "cell_type": "code",
   "execution_count": 6,
   "metadata": {
    "collapsed": false
   },
   "outputs": [
    {
     "name": "stdout",
     "output_type": "stream",
     "text": [
      "Inserting numpy (TRIM) into table...\n",
      "INSERT INTO TMP ( TAG ) values ( TRIM(TRAILING FROM :TAG) )\n",
      "Runtime: 11.02s\n"
     ]
    }
   ],
   "source": [
    "# oracle strip and numpy insert\n",
    "\n",
    "start = time.time()\n",
    "print \"Inserting numpy (TRIM) into table...\"\n",
    "query = \"INSERT INTO %s ( %s ) values ( TRIM(TRAILING FROM :%s) )\"%(tablename,col,co\\\n",
    "l)\n",
    "print query\n",
    "con.cursor().executemany(query, d.tolist())\n",
    "print \"Runtime: %.2fs\"%(time.time() - start)"
   ]
  },
  {
   "cell_type": "code",
   "execution_count": 7,
   "metadata": {
    "collapsed": false
   },
   "outputs": [
    {
     "name": "stdout",
     "output_type": "stream",
     "text": [
      "Creating table...\n",
      "CREATE TABLE TMP ( TAG VARCHAR2(13) );\n",
      "\u001b[32mDone!\u001b[0m\n",
      "\n",
      "\n",
      "Inserting numpy (oracle) into table...\n",
      "INSERT INTO TMP ( TAG ) values ( TRIM(:TAG) )\n",
      "Runtime: 11.23s\n",
      "Total number of rows...\n",
      "select count(*) from TMP;\n",
      "\n",
      "\u001b[32m\n",
      "1 rows in 3.49 seconds\u001b[0m\n",
      "\n",
      "   COUNT(*)\n",
      "1   7136105\n",
      "\n",
      "Selecting original string...\n",
      "select count(*) from TMP where TAG = 'Y2N_FIRSTCUT ';\n",
      "\n",
      "\u001b[32m\n",
      "1 rows in 1.55 seconds\u001b[0m\n",
      "\n",
      "   COUNT(*)\n",
      "1         0\n",
      "\n",
      "Selecting stripped string...\n",
      "select count(*) from TMP where TAG = 'Y2N_FIRSTCUT';\n",
      "\n",
      "\u001b[32m\n",
      "1 rows in 0.33 seconds\u001b[0m\n",
      "\n",
      "   COUNT(*)\n",
      "1   7136105\n",
      "\n"
     ]
    }
   ],
   "source": [
    "# Now check that the Oracle strip worked\n",
    "\n",
    "try: con.drop_table(tablename)\n",
    "except: pass\n",
    "print \"Creating table...\"\n",
    "query = \"CREATE TABLE %s ( %s VARCHAR2(13) );\"%(tablename,col)\n",
    "print query\n",
    "con.onecmd(query)\n",
    "\n",
    "print\n",
    "start = time.time()\n",
    "print \"Inserting numpy (oracle) into table...\"\n",
    "query = \"INSERT INTO %s ( %s ) values ( TRIM(:%s) )\"%(tablename,col,col)\n",
    "print query\n",
    "con.cursor().executemany(query, d.tolist())\n",
    "print \"Runtime: %.2fs\"%(time.time() - start)\n",
    "\n",
    "print \"Total number of rows...\"\n",
    "query = \"select count(*) from %s;\"%(tablename)\n",
    "print query\n",
    "con.onecmd(query)\n",
    "\n",
    "print \"Selecting original string...\"\n",
    "query = \"select count(*) from %s where %s = '%s';\"%(tablename,col,d[col][0])\n",
    "print query\n",
    "con.onecmd(query)\n",
    "\n",
    "print \"Selecting stripped string...\"\n",
    "query = \"select count(*) from %s where %s = '%s';\"%(tablename,col,d[col][0].strip())\n",
    "print query\n",
    "con.onecmd(query)"
   ]
  },
  {
   "cell_type": "code",
   "execution_count": null,
   "metadata": {
    "collapsed": true
   },
   "outputs": [],
   "source": []
  }
 ],
 "metadata": {
  "kernelspec": {
   "display_name": "Python 2",
   "language": "python",
   "name": "python2"
  },
  "language_info": {
   "codemirror_mode": {
    "name": "ipython",
    "version": 2
   },
   "file_extension": ".py",
   "mimetype": "text/x-python",
   "name": "python",
   "nbconvert_exporter": "python",
   "pygments_lexer": "ipython2",
   "version": "2.7.8"
  }
 },
 "nbformat": 4,
 "nbformat_minor": 0
}
