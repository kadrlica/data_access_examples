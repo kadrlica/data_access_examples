{
 "cells": [
  {
   "cell_type": "markdown",
   "metadata": {},
   "source": [
    "# Introduction\n",
    "\n",
    "The interface between Oracle, numpy, and FITS can be a complicated one. One annoying place that things break down is when padding whitespace. This is an example on the premise that forewarned is a forarmed.\n",
    "\n",
    "The [FITS standard](http://fits.gsfc.nasa.gov/fits_standard.html) says \"Leading spaces are significant; trailing spaces are not.\" In the [CFITSIO documentation](https://heasarc.gsfc.nasa.gov/docs/software/fitsio/c/c_user/node24.html) it states that \"When reading a FITS string value, the CFITSIO routines will strip off these non-significant trailing spaces and will return a null-terminated string value containing only the significant characters.\" On the other hand, CFITSIO states that \"Similarly, when writing string values to a FITS file the CFITSIO routines expect to get a null-terminated string as input; CFITSIO will pad the string with blanks if necessary when writing it to the FITS file.\"\n",
    "\n",
    "All of this doesn't get easier when we toss Oracle into the mix. Oracle has two character data types `CHAR` and `VARCHAR`. For `CHAR` the [Oracle standard](https://docs.oracle.com/cd/E17952_01/refman-5.5-en/char.html) is \"When CHAR values are stored, they are right-padded with spaces to the specified length. When CHAR values are retrieved, trailing spaces are removed\". On the other hand for VARCHAR (mostly used by DES), the standard is \"VARCHAR values are not padded when they are stored. Trailing spaces are retained when values are stored and retrieved\".\n",
    "\n",
    "Numpy itself \"null-pads\" strings. I haven't found the official documentation for this, but I'm pretty sure it's the case. Also, when `pyfits` reads a binary table, it [explicitly null-pads](https://github.com/spacetelescope/PyFITS/blob/8ebf9543d1373b4df257e6f6d8901e9a7b58b8b9/lib/pyfits/fitsrec.py#L1045-L1075).\n",
    "\n",
    "So what actually happens?"
   ]
  },
  {
   "cell_type": "code",
   "execution_count": 61,
   "metadata": {
    "collapsed": false
   },
   "outputs": [
    {
     "name": "stdout",
     "output_type": "stream",
     "text": [
      "numpy version:  1.9.1\n",
      "pyfits version:  3.3\n",
      "fitsio version:  0.9.7\n"
     ]
    }
   ],
   "source": [
    "import numpy as np\n",
    "import pyfits\n",
    "import fitsio\n",
    "\n",
    "print 'numpy version: ',np.__version__\n",
    "print 'pyfits version: ',pyfits.__version__\n",
    "print 'fitsio version: ',fitsio.__version__"
   ]
  },
  {
   "cell_type": "code",
   "execution_count": 65,
   "metadata": {
    "collapsed": false
   },
   "outputs": [
    {
     "name": "stdout",
     "output_type": "stream",
     "text": [
      "WRITE (pyfits); READ (pyfits) ('a')\n",
      "WRITE (pyfits); READ (fitsio) ('a',)\n",
      "WRITE (fitsio); READ (pyfits) ('a')\n",
      "WRITE (fitsio); READ (fitsio) ('a                                                           ',)\n"
     ]
    }
   ],
   "source": [
    "# Create a numpy recarray (should be null padded)\n",
    "a = np.rec.array(10*[['a']],dtype=[('name','S60')])\n",
    "\n",
    "# Write the array to a FITS file with pyfits\n",
    "hdu = pyfits.BinTableHDU.from_columns(a)\n",
    "hdu.writeto('tmp1.fits',clobber=True)\n",
    "\n",
    "# Read the file with pyfits\n",
    "a1 = pyfits.open('tmp1.fits')[1].data\n",
    "print 'WRITE (pyfits); READ (pyfits)',a1[0]\n",
    "\n",
    "# Now try reading the same file\n",
    "a2 = fitsio.read('tmp1.fits',ext=1)\n",
    "print 'WRITE (pyfits); READ (fitsio)',a2[0]\n",
    "\n",
    "# Now write the original array with fitsio\n",
    "fitsio.write('tmp2.fits',a,clobber=True)\n",
    "\n",
    "# Read the file with pyfits\n",
    "a3 = pyfits.open('tmp2.fits')[1].data\n",
    "print \"WRITE (fitsio); READ (pyfits)\",a3[0]\n",
    "\n",
    "# Read the file with fitsio\n",
    "a4 = fitsio.read('tmp2.fits',ext=1)\n",
    "print \"WRITE (fitsio); READ (fitsio)\",a4[0]"
   ]
  },
  {
   "cell_type": "markdown",
   "metadata": {},
   "source": [
    "So in summary, \n",
    "\n",
    "|               | WRITE (pyfits) | WRITE (fitsio) |\n",
    "| --- | --- | --- |\n",
    "| **READ (pyfits)** | OK             | OK             |\n",
    "| **READ (fitsio)** | OK             | **BAD**            |\n",
    "\n",
    "This is unfortunate, because the situation that we are in with `easyaccess` is that we are using `fitsio` to read data from the `Oracle` database and then using `fitsio` to read files to upload to the database. To make this worse, \n",
    "\n",
    "What this means is that if you read a VARCHAR column from the DB into a FITS file and then write back to the DB you will get different values (they will now be space padded). What a pain.\n",
    "\n",
    "This investigation suggests that something is going wrong in `fitsio` (or more precisely, in `CFITSIO`). It would be best to fix this, but that would mean changing `CFITSIO` (which we arent' ready to do). There could also be a hack in `fitsio`, but the nice thing about `fitsio` is that it follows the same standard as `CFITSIO`. For the time being maybe we can just hack it in `easyaccess`. At first glance, it seems like the hack would be to strip the whitespace after reading with `fitsio`."
   ]
  },
  {
   "cell_type": "code",
   "execution_count": 63,
   "metadata": {
    "collapsed": false
   },
   "outputs": [
    {
     "name": "stdout",
     "output_type": "stream",
     "text": [
      "WRITE (fitsio); READ (fitsio) ('a',)\n"
     ]
    }
   ],
   "source": [
    "for name,tup in a4.dtype.fields.items():\n",
    "    if tup[0].kind == 'S':\n",
    "        a4[name] = np.char.rstrip(a4[name])\n",
    "print \"WRITE (fitsio); READ (fitsio)\", a4[0]"
   ]
  },
  {
   "cell_type": "markdown",
   "metadata": {},
   "source": [
    "Another possibility might be to write Oracle columns as `CHAR` rather than `VARCHAR`. In that case, all columns will get space padded on upload and space stripped on download. This still doesn't fix the problem with CFITSIO reading"
   ]
  },
  {
   "cell_type": "markdown",
   "metadata": {},
   "source": [
    "As an addendum, here's  some investigation of numpy and null characters..."
   ]
  },
  {
   "cell_type": "code",
   "execution_count": 75,
   "metadata": {
    "collapsed": false
   },
   "outputs": [
    {
     "name": "stdout",
     "output_type": "stream",
     "text": [
      "badstring:  '\\x00\\x00\\x00\\x00ABCDEFGH\\x00\\x00\\x00\\x00' \n",
      "\n",
      "array:  array(('\\x00\\x00\\x00\\x00ABCDEFGH',), \n",
      "      dtype=[('hashcode', 'S16')]) \n",
      "\n",
      "array value:  12 '\\x00\\x00\\x00\\x00ABCDEFGH' \n",
      "\n"
     ]
    }
   ],
   "source": [
    "import numpy\n",
    "\n",
    "# Create string with nulls\n",
    "DT = numpy.dtype([('hashcode', numpy.str_, 16)])\n",
    "badstring = 4 * chr(0) + 'ABCDEFGH' + 4 * chr(0)\n",
    "print 'badstring: ',repr(badstring),'\\n'\n",
    "\n",
    "# Create numpy array\n",
    "arr = numpy.array((badstring,), dtype=DT)\n",
    "print 'array: ', repr(arr),'\\n'\n",
    "\n",
    "# Get the value in the array\n",
    "s = str(arr['hashcode'])\n",
    "print 'array value: ',len(s), repr(s),'\\n'\n",
    "\n"
   ]
  }
 ],
 "metadata": {
  "kernelspec": {
   "display_name": "Python 2",
   "language": "python",
   "name": "python2"
  },
  "language_info": {
   "codemirror_mode": {
    "name": "ipython",
    "version": 2
   },
   "file_extension": ".py",
   "mimetype": "text/x-python",
   "name": "python",
   "nbconvert_exporter": "python",
   "pygments_lexer": "ipython2",
   "version": "2.7.8"
  }
 },
 "nbformat": 4,
 "nbformat_minor": 0
}
